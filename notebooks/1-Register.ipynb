{
 "cells": [
  {
   "cell_type": "markdown",
   "metadata": {},
   "source": [
    "## Welcome to Microsoft Ignite 2024. \n",
    "\n",
    "You're in the Adaptive Cloud Experience \"Explore next-gen industrial transformation architecture patterns\" Ignite pre-day lab.\n",
    "\n",
    "**First, choose your username** \n",
    "\n",
    "Pick a user name (remember the Ignite code of conduct) and then replace the placeholder value for _**player_user_name**_ in the cell below and then run the cell by pressing the Play button on the upper left of the cell.\n"
   ]
  },
  {
   "cell_type": "code",
   "execution_count": null,
   "metadata": {},
   "outputs": [],
   "source": [
    "# Get registered\n",
    "import requests\n",
    "\n",
    "player_user_name=(\"REPLACE_ME_PRETTY_PLEASE\") # Replace with the username of your choice. Remember to adhere to the Ignite code of conduct.\n",
    "\n",
    "\n",
    "##############################################\n",
    "addUserEndpoint=\"https://jsleaderboard001-cnece0effvapgbft.westus2-01.azurewebsites.net/add_user\"\n",
    "userId=player_user_name.replace(\" \", \"\")\n",
    "%store userId\n",
    "response = requests.post(addUserEndpoint,json={\"id\": userId, \"name\": player_user_name})\n",
    "from PIL import Image, ImageDraw, ImageFont\n",
    "import matplotlib.pyplot as plt\n",
    "def add_text_to_image(image_path, text, font_size=48):\n",
    "    img = Image.open(image_path)\n",
    "    img_copy = img.copy()\n",
    "    draw = ImageDraw.Draw(img_copy)\n",
    "    try:\n",
    "        font = ImageFont.truetype(\"arial.ttf\", font_size)\n",
    "    except:\n",
    "        font = ImageFont.load_default()\n",
    "    text_width = draw.textlength(text, font=font)\n",
    "    text_position = ((img.width - text_width) // 2, 50)\n",
    "    draw.text((text_position[0]+2, text_position[1]+2), text, font=font, fill='black')\n",
    "    draw.text(text_position, text, font=font, fill='black')\n",
    "    return img_copy\n",
    "image_path = '../media/image/controlCenter.png'\n",
    "text = f\"Welcome {player_user_name} to your new office!\"\n",
    "modified_image = add_text_to_image(image_path, text)\n",
    "plt.figure(figsize=(100, 10))\n",
    "plt.subplot(1, 2, 2)\n",
    "plt.imshow(modified_image)\n",
    "plt.axis('off')\n",
    "plt.show()\n",
    "\n",
    "print(requests.post(\"https://jsleaderboard001-cnece0effvapgbft.westus2-01.azurewebsites.net/complete_task\", headers={\"Content-Type\": \"application/json\"}, json={\"user_id\": userId, \"task_id\": 1}).json())\n"
   ]
  },
  {
   "cell_type": "markdown",
   "metadata": {},
   "source": [
    "### Continue on to the next notebook.\n",
    "\n",
    "[Notebook 2 - Computer vision](./2-ComputerVision.ipynb)"
   ]
  }
 ],
 "metadata": {
  "kernelspec": {
   "display_name": ".venv",
   "language": "python",
   "name": "python3"
  },
  "language_info": {
   "codemirror_mode": {
    "name": "ipython",
    "version": 3
   },
   "file_extension": ".py",
   "mimetype": "text/x-python",
   "name": "python",
   "nbconvert_exporter": "python",
   "pygments_lexer": "ipython3",
   "version": "3.12.7"
  }
 },
 "nbformat": 4,
 "nbformat_minor": 2
}
